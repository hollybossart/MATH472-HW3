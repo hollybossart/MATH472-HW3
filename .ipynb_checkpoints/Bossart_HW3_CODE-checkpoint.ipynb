{
 "cells": [
  {
   "cell_type": "markdown",
   "metadata": {},
   "source": [
    "# MATH 472 Homework 3\n",
    "## Holly Bossart\n",
    "## Due 02/06/2020"
   ]
  },
  {
   "cell_type": "code",
   "execution_count": 1,
   "metadata": {},
   "outputs": [],
   "source": [
    "import pandas as pd\n",
    "import numpy as np\n",
    "import matplotlib.pyplot as plt\n",
    "from numpy.linalg import inv, multi_dot\n",
    "%matplotlib inline"
   ]
  },
  {
   "cell_type": "markdown",
   "metadata": {},
   "source": [
    "## Problem 1\n",
    "Implement iteratively reweighted least squares IRLS algorithm to reproduce the result in Example 2.5 of Computational Statistics book. \n",
    "\n",
    "### Part a\n",
    "(a) Print your result in the format of table 2.1 using starting value = (0.95913, 0)."
   ]
  },
  {
   "cell_type": "code",
   "execution_count": 2,
   "metadata": {
    "scrolled": false
   },
   "outputs": [],
   "source": [
    "data = pd.read_csv('facerecognition.csv', delimiter = ' ')\n",
    "y = data['match'].to_numpy().reshape((1042,1))\n",
    "z = data['eyediff'].to_numpy().reshape((1042,1))\n",
    "ones = np.ones((1042, 1))\n",
    "z = np.hstack((ones, z))\n",
    "n = y.size\n",
    "beta = np.asarray([0.95913, 0]).reshape(2,1)\n",
    "abeta0s = []\n",
    "abeta1s = []\n",
    "bbeta0s = []\n",
    "bbeta1s = []\n",
    "\n",
    "\n",
    "\n",
    "def update_pi(beta):\n",
    "    pi = (1/(1 + np.exp(-z.dot(beta))))\n",
    "    return pi\n",
    "\n",
    "def get_b(pi):\n",
    "    return -np.log(pi)\n",
    "\n",
    "def newton_beta(beta, opt):\n",
    "    # this if our first value for everything\n",
    "    iteration = 0\n",
    "\n",
    "    W = np.zeros((n,n))\n",
    "    pi= update_pi(beta)\n",
    "    np.fill_diagonal(W, pi*(1-pi))\n",
    "\n",
    "    for i in range(5):\n",
    "        Hessian = inv(multi_dot((z.T, W, z)))\n",
    "        #print(iteration, beta, Hessian)\n",
    "        iteration = iteration + 1\n",
    "        \n",
    "        if opt == 0:\n",
    "            abeta0s.append(beta[0])\n",
    "            abeta1s.append(beta[1])\n",
    "            \n",
    "        if opt == 1:\n",
    "            bbeta0s.append(beta[0])\n",
    "            bbeta1s.append(beta[1])\n",
    "            \n",
    "        beta = beta + Hessian.dot(z.T.dot(y - pi))\n",
    "        pi = update_pi(beta)\n",
    "        np.fill_diagonal(W, pi*(1-pi))\n",
    "    return;\n",
    "\n",
    "newton_beta(beta, 0)"
   ]
  },
  {
   "cell_type": "markdown",
   "metadata": {},
   "source": [
    "### Problem 1a Solution:\n",
    "| Iteration, $t$ | $\\beta^{(t)}$                                          | $-l''(\\beta^{(t+1)})$                                                                              |\n",
    "|--------------|--------------------------------------------------------|----------------------------------------------------------------------------------------------------|\n",
    "| 0            | $\\begin{pmatrix} 0.95913\\\\ 0 \\end{pmatrix}$            | $\\begin{bmatrix} 0.01096355 & -0.11774\\\\ -0.11774922 & 2.24636741 \\end{bmatrix}$                   |\n",
    "| 1            | $\\begin{pmatrix}1.72028763\\\\-13.90963144\\end{pmatrix}$ | $\\begin{bmatrix}   0.01376919 & -0.14444378\\\\   -0.14444378 & 2.43426036   \\end{bmatrix}$          |\n",
    "| 2            | $\\begin{pmatrix}1.75721969\\\\-13.38389891\\end{pmatrix}$ | $\\begin{bmatrix}    0.01399076 & -0.14439871\\\\    -0.14439871 & 2.40178607    \\end{bmatrix}$       |\n",
    "| 3            | $\\begin{pmatrix}1.75870063\\\\-13.40003398\\end{pmatrix}$ | $\\begin{bmatrix}     0.01400062 & -0.1445039\\\\     -0.1445039 & 2.40316643     \\end{bmatrix}$      |\n",
    "| 4            | $\\begin{pmatrix}1.75870116\\\\-13.40003968\\end{pmatrix}$ | $\\begin{bmatrix}      0.01400062 & -0.14450394\\\\      -0.14450394 & 2.40316692      \\end{bmatrix}$ |"
   ]
  },
  {
   "cell_type": "markdown",
   "metadata": {},
   "source": [
    "## Problem 1b\n",
    "(b) Starting with different points."
   ]
  },
  {
   "cell_type": "code",
   "execution_count": 3,
   "metadata": {},
   "outputs": [],
   "source": [
    "# number 1b\n",
    "beta = np.asarray([0, 0]).reshape(2,1)\n",
    "newton_beta(beta, 1)"
   ]
  },
  {
   "cell_type": "markdown",
   "metadata": {},
   "source": [
    "## Problem 1b solution:\n",
    "| Iteration, t | $\\beta^{(t)}$                                          | $-l''(\\beta^{(t+1)})$                                                                              |\n",
    "|--------------|--------------------------------------------------------|----------------------------------------------------------------------------------------------------|\n",
    "| 0            | $\\begin{pmatrix} 0\\\\ 0 \\end{pmatrix}$                  | $\\begin{bmatrix} 0.00878375 & -0.09433803\\\\ -0.09433803 & 1.79973903 \\end{bmatrix}$                |\n",
    "| 1            | $\\begin{pmatrix}1.5016127\\\\-11.14408376\\end{pmatrix}$  | $\\begin{bmatrix}   0.01246462 & -0.12936371\\\\   -0.12936371 & 2.21900238   \\end{bmatrix}$          |\n",
    "| 2            | $\\begin{pmatrix}1.74440309\\\\-13.26669118\\end{pmatrix}$ | $\\begin{bmatrix}    0.01390619 & -0.14355394\\\\    -0.14355394 & 2.39141906    \\end{bmatrix}$       |\n",
    "| 3            | $\\begin{pmatrix}1.75865273\\\\-13.3995696\\end{pmatrix}$  | $\\begin{bmatrix}     0.0140003 & -0.14450065\\\\     -0.14450065 & 2.40312566     \\end{bmatrix}$     |\n",
    "| 4            | $\\begin{pmatrix}1.75870116\\\\-13.40003968\\end{pmatrix}$ | $\\begin{bmatrix}      0.01400062 & -0.14450394\\\\      -0.14450394 & 2.40316692      \\end{bmatrix}$ |"
   ]
  },
  {
   "cell_type": "markdown",
   "metadata": {},
   "source": [
    "### 1c solution\n",
    "#### making the contour plot"
   ]
  },
  {
   "cell_type": "code",
   "execution_count": 4,
   "metadata": {},
   "outputs": [
    {
     "data": {
      "text/plain": [
       "[<matplotlib.lines.Line2D at 0x1f5e4ffc688>]"
      ]
     },
     "execution_count": 4,
     "metadata": {},
     "output_type": "execute_result"
    },
    {
     "data": {
      "image/png": "[encoded data removed]",
      "text/plain": [
       "<Figure size 432x288 with 1 Axes>"
      ]
     },
     "metadata": {
      "needs_background": "light"
     },
     "output_type": "display_data"
    }
   ],
   "source": [
    "num_pts = 200;\n",
    "b0_vals = np.linspace(-2, 2, num_pts)\n",
    "b1_vals = np.linspace(-15, 15, num_pts)\n",
    "B0, B1 = np.meshgrid(b0_vals, b1_vals)\n",
    "\n",
    "\n",
    "# we need to iterate through the mesh now and calculate the loglikehood\n",
    "\n",
    "def loglikelihood(y, z, beta0, beta1):\n",
    "    ones = np.ones((y.size, 1))\n",
    "    beta = np.array([beta0, beta1]).reshape(2,1)\n",
    "    pi = (1/(1 + np.exp(-z.dot(beta)))).reshape(y.size, 1)\n",
    "    b = -np.log(1-pi)\n",
    "    return multi_dot((y.T, z, beta)) -b.T.dot(ones)\n",
    "\n",
    "ll = np.zeros((B0.shape[0], B1.shape[0]))    \n",
    "for i in range(B0.shape[0]):\n",
    "    for j in range (B1.shape[0]):\n",
    "        b0 = B0[i,j]\n",
    "        b1 = B1[i,j]\n",
    "        ll[i,j] = loglikelihood(y,z,b0,b1)\n",
    "\n",
    "plt.figure\n",
    "plt.contourf(B0, B1, ll, 40, cmap = 'ocean')\n",
    "plt.plot(abeta0s, abeta1s, '*m-')\n",
    "plt.title('Contour plot of the log-likelihood function with inputs, B0 and B1')\n",
    "plt.xlabel('B0 values')\n",
    "plt.ylabel('B1 values')\n",
    "plt.annotate('B0_b, B1_b', (-0.2,2))\n",
    "plt.annotate('B0_a, B1_a', (1,3))\n",
    "plt.annotate('Final convergence', (0.5, -13))\n",
    "plt.plot(bbeta0s, bbeta1s, '*r-')\n"
   ]
  },
  {
   "cell_type": "markdown",
   "metadata": {},
   "source": [
    "## Problem 2 Solution\n",
    "### 2(a) solution\n",
    "#### Using NR Method\n"
   ]
  },
  {
   "cell_type": "code",
   "execution_count": 5,
   "metadata": {},
   "outputs": [
    {
     "name": "stdout",
     "output_type": "stream",
     "text": [
      "\n",
      "\n",
      "Starting value: -11.0\n",
      "Number of iterations: 23 \n",
      "Tolerance: 1e-06\n",
      "Final solution: -52555770.658200875\n",
      "\n",
      "\n",
      "Starting value: -1.0\n",
      "Number of iterations: 3 \n",
      "Tolerance: 1e-06\n",
      "Final solution: -0.19228646762465856\n",
      "\n",
      "\n",
      "Starting value: 0.0\n",
      "Number of iterations: 3 \n",
      "Tolerance: 1e-06\n",
      "Final solution: -0.1922866132255957\n",
      "\n",
      "\n",
      "Starting value: 1.5\n",
      "Number of iterations: 4 \n",
      "Tolerance: 1e-06\n",
      "Final solution: 1.7135868348079244\n",
      "\n",
      "\n",
      "Starting value: 4.0\n",
      "Number of iterations: 4 \n",
      "Tolerance: 1e-06\n",
      "Final solution: 2.8174724368887514\n",
      "\n",
      "\n",
      "Starting value: 4.7\n",
      "Number of iterations: 4 \n",
      "Tolerance: 1e-06\n",
      "Final solution: -0.19228651191810686\n",
      "\n",
      "\n",
      "Starting value: 7.0\n",
      "Number of iterations: 8 \n",
      "Tolerance: 1e-06\n",
      "Final solution: 41.040847821035634\n",
      "\n",
      "\n",
      "Starting value: 8.0\n",
      "Number of iterations: 24 \n",
      "Tolerance: 1e-06\n",
      "Final solution: -73291849.11819905\n",
      "\n",
      "\n",
      "Starting value: 38.0\n",
      "Number of iterations: 4 \n",
      "Tolerance: 1e-06\n",
      "Final solution: 42.7953778536672\n",
      "\n",
      "\n",
      "Starting value: 5.106\n",
      "Number of iterations: 8 \n",
      "Tolerance: 1e-06\n",
      "Final solution: 54.87661791171686\n"
     ]
    },
    {
     "data": {
      "image/png": "[encoded data removed]",
      "text/plain": [
       "<Figure size 432x288 with 1 Axes>"
      ]
     },
     "metadata": {
      "needs_background": "light"
     },
     "output_type": "display_data"
    }
   ],
   "source": [
    "cauchy_vals = np.asarray([1.77,-0.23,2.76,3.8,3.47,56.75,-1.34,4.24,-2.44,3.29,3.71,-2.4,4.53,-0.07,-1.05,-13.87,-2.53,-1.75,0.27,43.21])\n",
    "n = cauchy_vals.size\n",
    "\n",
    "def loglike(theta):\n",
    "    foo = -np.log([1+(cauchy_vals[i]-theta)**2 for i in range(n)]).sum(axis=0)\n",
    "    return  -n*np.log(np.pi) + foo\n",
    "\n",
    "def llprime(theta):\n",
    "    temp = []\n",
    "    #iterate through all observations\n",
    "    for i in range(n):\n",
    "        temp.append(2*(cauchy_vals[i]-theta)/((cauchy_vals[i] - theta)**2 + 1))   \n",
    "    return sum(temp)\n",
    "\n",
    "def llprime2(theta):\n",
    "    temp = []\n",
    "    for i in range(n):\n",
    "        temp.append((-2*(theta**2-2*theta*cauchy_vals[i]+cauchy_vals[i]**2-1))/((theta**2-2*theta*cauchy_vals[i]+cauchy_vals[i]**2+1)**2))\n",
    "    return sum(temp)\n",
    "\n",
    "def step(theta):\n",
    "    return llprime(theta) / llprime2(theta)\n",
    "\n",
    "def newton_method(theta, tol, max_iterations, print_option):\n",
    "    theta_vals = [theta]\n",
    "    num_iterations = 0\n",
    "    \n",
    "    while abs(llprime(theta)) > tol and num_iterations < max_iterations:\n",
    "        old_theta = theta_vals[num_iterations]\n",
    "        new_theta = old_theta + step(old_theta)\n",
    "        num_iterations += 1\n",
    "        theta_vals.append(new_theta)\n",
    "        theta = new_theta\n",
    "        \n",
    "        \n",
    "    # at this point we have broken out of the while loop    \n",
    "    if num_iterations == max_iterations:\n",
    "        print(\"Exceeded maximum number of iterations.\")\n",
    "        return\n",
    "        \n",
    "    # this is where we hope to be if newtons went well    \n",
    "    if print_option == 1:\n",
    "        print('\\n')\n",
    "        print(\"Starting value: \" + str(theta_vals[0]))\n",
    "        sol = theta_vals[-1]\n",
    "        print(\"Number of iterations: \" + str(num_iterations) + \" \\nTolerance: \" + str(tol))\n",
    "        print(\"Final solution: \" + str(sol))\n",
    "        return\n",
    "    \n",
    "    if print_option == 0:\n",
    "        return theta_vals[-1]\n",
    "\n",
    "# plotting the log likelihood function\n",
    "thetas = np.linspace(-12,12, 1000)\n",
    "plt.figure()\n",
    "plt.plot(thetas, loglike(thetas))\n",
    "\n",
    "plt.title('Graph of the log-likelihood function')\n",
    "plt.xlabel('Theta values')\n",
    "plt.ylabel('Log-likehood function')\n",
    "\n",
    "# find the MLE for theta using NR method\n",
    "starting_pts = np.asarray([-11, -1, 0, 1.5, 4, 4.7, 7, 8, 38, np.mean(cauchy_vals)])\n",
    "tol = 1e-6\n",
    "max_iterations = 2000\n",
    "printopt = 1\n",
    "for val in starting_pts:\n",
    "    newton_method(val, tol, max_iterations, printopt)\n",
    "\n",
    "\n",
    "\n"
   ]
  },
  {
   "cell_type": "markdown",
   "metadata": {},
   "source": [
    "The Newton Raphson method is highly sensitive to the starting point. It looks like the true maximum of the likelihood function occurs at theta = -0.19228651191810686. Only a few of the above points converge to that (theta = -1.0, 0.0, 4.7.) The mean, which is tested above very last, is 5.106. When plugged into the Newton Raphson method, it does not converge to the correct value, thus is not a good starting point."
   ]
  },
  {
   "cell_type": "markdown",
   "metadata": {},
   "source": [
    "### 2(b) solution\n",
    "#### using bisection method"
   ]
  },
  {
   "cell_type": "code",
   "execution_count": 6,
   "metadata": {},
   "outputs": [
    {
     "name": "stdout",
     "output_type": "stream",
     "text": [
      "Number of iterations: 20 with tolerance: 1e-06\n",
      "Final solution: -0.19228649139404297\n",
      "\n"
     ]
    }
   ],
   "source": [
    "def bisection(x, a, b, tol):\n",
    "    num_iterations = 0\n",
    "    max_iterations = 100\n",
    "    a0 = a\n",
    "    b0 = b\n",
    "    \n",
    "    # creating lists for these values for graphing purposes later\n",
    "    a_list = [a]\n",
    "    b_list = [b]\n",
    "    x_list = [x]\n",
    "    \n",
    "    # check the condition holds to continue the loop\n",
    "    while ((abs(llprime(x)) > tol) and (num_iterations < max_iterations)):\n",
    "        \n",
    "        # check that condition holds for intermediate value theorem\n",
    "        if llprime(a)*llprime(b) > 0:\n",
    "            print(\"Bisection method fails.\")\n",
    "            return\n",
    "        \n",
    "        # if this does not fail, then we can test other conditions given in book\n",
    "        if llprime(a)*llprime(x) <= 0:\n",
    "            a = a\n",
    "            b = x\n",
    "        elif llprime(a)*llprime(x) > 0:\n",
    "            a = x\n",
    "            b = b\n",
    "        else:\n",
    "            print(\"Something went wrong!\")\n",
    "            return\n",
    "        \n",
    "        # updating new x values in new interval\n",
    "        x = (a+b)/2;\n",
    "        num_iterations+=1;\n",
    "        \n",
    "        # storing our new a, b, and x values at the end of a list for graphing later\n",
    "        a_list.append(a)\n",
    "        b_list.append(b)\n",
    "        x_list.append(x)\n",
    "    \n",
    "    # while loop has broken at this point in the code\n",
    "    # we are either within the appropriate tolerance, or reached max iterations\n",
    "    if num_iterations == max_iterations:\n",
    "        print(\"Exceeded maximum number of iterations.\")\n",
    "        return\n",
    "        \n",
    "    # this is where we hope to be if bisection went well    \n",
    "    else:\n",
    "        print(\"Number of iterations: \" + str(num_iterations) + \" with tolerance: \" + str(tol))\n",
    "        print(\"Final solution: \" + str(x))\n",
    "        print()\n",
    "\n",
    " \n",
    "\n",
    "\n",
    "bisection(0, -1, 1, tol)"
   ]
  },
  {
   "cell_type": "markdown",
   "metadata": {},
   "source": [
    "We can see that this converges correctly to the proper value. Below, I will try use other starting points in the same range that don't find the global maximum. We can see that where it starts determines the value it converges to."
   ]
  },
  {
   "cell_type": "code",
   "execution_count": 7,
   "metadata": {},
   "outputs": [
    {
     "name": "stdout",
     "output_type": "stream",
     "text": [
      "Number of iterations: 22 with tolerance: 1e-06\n",
      "Final solution: 2.817472219467163\n",
      "\n",
      "Number of iterations: 22 with tolerance: 1e-06\n",
      "Final solution: -0.19228649139404297\n",
      "\n",
      "Number of iterations: 21 with tolerance: 1e-06\n",
      "Final solution: 2.817472457885742\n",
      "\n"
     ]
    }
   ],
   "source": [
    "bisection(2, -1, 5, tol)\n",
    "bisection(3, -1, 5, tol)\n",
    "bisection(2, -1, 6, tol)"
   ]
  },
  {
   "cell_type": "markdown",
   "metadata": {},
   "source": [
    "### 2(c) solution\n",
    "#### Using fixed point "
   ]
  },
  {
   "cell_type": "code",
   "execution_count": 8,
   "metadata": {
    "scrolled": true
   },
   "outputs": [
    {
     "name": "stdout",
     "output_type": "stream",
     "text": [
      "Fixed-point estimate for alpha = 1.00 is:  0.9214155618890301\n",
      "Iterations:  1\n",
      "Tolerance:  1e-06\n",
      "\n",
      "Fixed-point estimate for alpha = 0.64 is:  0.22970595960897922\n",
      "Iterations:  2\n",
      "Tolerance:  1e-06\n",
      "\n",
      "Fixed-point estimate for alpha = 0.25 is:  -0.19228683275117225\n",
      "Iterations:  13\n",
      "Tolerance:  1e-06\n",
      "\n"
     ]
    }
   ],
   "source": [
    "# fixed point iteration\n",
    "alphas = [1,.64,.25] # scaling factor \n",
    "iterations = 0\n",
    "for alpha in alphas:\n",
    "    theta = -1 \n",
    "    while llprime(theta)>tol:\n",
    "        theta = theta + alpha*llprime(theta) \n",
    "        iterations+=1    \n",
    "    print('Fixed-point estimate for alpha = %.2f is: ' %alpha,theta)\n",
    "    print('Iterations: ',iterations)\n",
    "    print('Tolerance: ', tol)\n",
    "    print()"
   ]
  },
  {
   "cell_type": "code",
   "execution_count": 9,
   "metadata": {},
   "outputs": [
    {
     "name": "stdout",
     "output_type": "stream",
     "text": [
      "Fixed-point estimate for alpha = 0.75 is:  4.006962340542033\n",
      "Iterations:  1\n",
      "Tolerance:  1e-06\n",
      "\n",
      "Fixed-point estimate for alpha = 0.33 is:  0.08306342983849468\n",
      "Iterations:  2\n",
      "Tolerance:  1e-06\n",
      "\n",
      "Fixed-point estimate for alpha = 0.50 is:  1.671308227028022\n",
      "Iterations:  3\n",
      "Tolerance:  1e-06\n",
      "\n"
     ]
    }
   ],
   "source": [
    "alphas = [0.75,.33,.5] # scaling factor \n",
    "iterations = 0\n",
    "for alpha in alphas:\n",
    "    theta = -3 \n",
    "    while llprime(theta)>tol:\n",
    "        theta = theta + alpha*llprime(theta) \n",
    "        iterations+=1    \n",
    "    print('Fixed-point estimate for alpha = %.2f is: ' %alpha,theta)\n",
    "    print('Iterations: ',iterations)\n",
    "    print('Tolerance: ', tol)\n",
    "    print()"
   ]
  },
  {
   "cell_type": "markdown",
   "metadata": {},
   "source": [
    "We can see that the fixed point estimate for theta is highly dependent on starting value and alpha."
   ]
  },
  {
   "cell_type": "markdown",
   "metadata": {},
   "source": [
    "### 2(d) solution\n",
    "#### Using secant method"
   ]
  },
  {
   "cell_type": "code",
   "execution_count": 10,
   "metadata": {
    "scrolled": true
   },
   "outputs": [
    {
     "name": "stdout",
     "output_type": "stream",
     "text": [
      "Secant estimate for [-3.00,3.00]:  2.8174721655730943\n",
      "Iterations:  7\n",
      "Tolerance:  1e-06\n",
      "\n",
      "Secant estimate for [-2.00,-1.00]:  -0.1922866132319396\n",
      "Iterations:  6\n",
      "Tolerance:  1e-06\n",
      "\n"
     ]
    }
   ],
   "source": [
    "theta_zeros = [-3,-2]\n",
    "theta_ones= [3,-1]\n",
    "for i in range(len(theta_zeros)):\n",
    "    k=0\n",
    "    x0=theta_zeros[i]\n",
    "    x1=theta_ones[i]\n",
    "    fx0 = llprime(x0); \n",
    "    fx1 = llprime(x1)\n",
    "    \n",
    "    while abs((x0-x1))>tol:\n",
    "        x2 = x1 - llprime(x1)*(x1-x0)/(llprime(x1)-llprime(x0))\n",
    "        x0=x1; x1=x2; fx0=fx1; fx1 = llprime(x2)\n",
    "        k+=1\n",
    "    print('Secant estimate for [%.2f,%.2f]: '%(theta_zeros[i],theta_ones[i]),x2)\n",
    "    print('Iterations: ',k)\n",
    "    print('Tolerance: ', tol)\n",
    "    print()\n"
   ]
  },
  {
   "cell_type": "markdown",
   "metadata": {},
   "source": [
    "We can see that with the two starting thetas given, only one converges. Below, I illustrate other starting choices."
   ]
  },
  {
   "cell_type": "code",
   "execution_count": 11,
   "metadata": {
    "scrolled": true
   },
   "outputs": [
    {
     "name": "stdout",
     "output_type": "stream",
     "text": [
      "Secant estimate for [-1.00,0.00]:  -0.19228661322966079\n",
      "Iterations:  5\n",
      "Tolerance:  1e-06\n",
      "\n",
      "Secant estimate for [-5.00,2.00]:  1.7135868348104293\n",
      "Iterations:  7\n",
      "Tolerance:  1e-06\n",
      "\n",
      "Secant estimate for [3.00,4.00]:  2.817472165573166\n",
      "Iterations:  7\n",
      "Tolerance:  1e-06\n",
      "\n"
     ]
    }
   ],
   "source": [
    "theta_zeros = [-1,-5, 3]\n",
    "theta_ones= [0,2, 4]\n",
    "for i in range(len(theta_zeros)):\n",
    "    k=0\n",
    "    x0=theta_zeros[i]\n",
    "    x1=theta_ones[i]\n",
    "    fx0 = llprime(x0); \n",
    "    fx1 = llprime(x1)\n",
    "    \n",
    "    while abs((x0-x1))>tol:\n",
    "        x2 = x1 - llprime(x1)*(x1-x0)/(llprime(x1)-llprime(x0))\n",
    "        x0=x1; x1=x2; fx0=fx1; fx1 = llprime(x2)\n",
    "        k+=1\n",
    "    print('Secant estimate for [%.2f,%.2f]: '%(theta_zeros[i],theta_ones[i]),x2)\n",
    "    print('Iterations: ',k)\n",
    "    print('Tolerance: ', tol)\n",
    "    print()"
   ]
  },
  {
   "cell_type": "markdown",
   "metadata": {},
   "source": [
    "### 2(e) solution\n",
    "#### comparing the various methods\n",
    "For values originating from a Cauchy distribution, it appears that all of the methods have their downsides, and are usually pretty sensitive to the starting values, and other parameters specific to those methods (such as interval, or alpha values.) When we look at the log-likelihood function for a Cauchy distribution, it's easy to see that there are multiple extrema, and not just a single maximum value. \n",
    "\n",
    "\n",
    "Now I am going to apply the above methods with a random sample with mean 3 and see if my optimization methods work and which one works better for a normal distribution. First, I will graph the log-likelihood function to see if there any discontinuties or intervals of interest."
   ]
  },
  {
   "cell_type": "code",
   "execution_count": 12,
   "metadata": {},
   "outputs": [
    {
     "name": "stdout",
     "output_type": "stream",
     "text": [
      "\n",
      "\n",
      "Using Newton's Method with Normal\n",
      "Starting value: 0.0\n",
      "Number of iterations: 1 \n",
      "Tolerance: 1e-06\n",
      "Final solution: 2.8852160209097337\n",
      "\n",
      "\n",
      "Using Newton's Method with Normal\n",
      "Starting value: 2.0\n",
      "Number of iterations: 1 \n",
      "Tolerance: 1e-06\n",
      "Final solution: 2.885216020909734\n",
      "\n",
      "\n",
      "Using Newton's Method with Normal\n",
      "Starting value: 3.0\n",
      "Number of iterations: 1 \n",
      "Tolerance: 1e-06\n",
      "Final solution: 2.8852160209097337\n",
      "\n",
      "\n",
      "Using Newton's Method with Normal\n",
      "Starting value: -1.0\n",
      "Number of iterations: 1 \n",
      "Tolerance: 1e-06\n",
      "Final solution: 2.8852160209097333\n",
      "\n",
      "\n",
      "Using Newton's Method with Normal\n",
      "Starting value: 0.5\n",
      "Number of iterations: 1 \n",
      "Tolerance: 1e-06\n",
      "Final solution: 2.8852160209097337\n",
      "\n",
      "\n",
      "Using Newton's Method with Normal\n",
      "Starting value: 30.0\n",
      "Number of iterations: 1 \n",
      "Tolerance: 1e-06\n",
      "Final solution: 2.8852160209097413\n",
      "\n",
      "\n",
      "Using Newton's Method with Normal\n",
      "Starting value: 42.0\n",
      "Number of iterations: 1 \n",
      "Tolerance: 1e-06\n",
      "Final solution: 2.8852160209097377\n",
      "\n",
      "\n",
      "Using Newton's Method with Normal\n",
      "Starting value: -100.0\n",
      "Number of iterations: 1 \n",
      "Tolerance: 1e-06\n",
      "Final solution: 2.885216020909752\n",
      "\n",
      "\n",
      "Using Newton's Method with Normal\n",
      "Starting value: 2.8852160209097337\n",
      "Number of iterations: 0 \n",
      "Tolerance: 1e-06\n",
      "Final solution: 2.8852160209097337\n"
     ]
    },
    {
     "data": {
      "image/png": "[encoded data removed]",
      "text/plain": [
       "<Figure size 432x288 with 1 Axes>"
      ]
     },
     "metadata": {
      "needs_background": "light"
     },
     "output_type": "display_data"
    }
   ],
   "source": [
    "n = 20\n",
    "mean, sigma = 3, 1\n",
    "random_sample = np.random.normal(mean, sigma, n)\n",
    "\n",
    "\n",
    "def normloglike(theta):\n",
    "    foo = np.asarray([(random_sample[i]-theta)**2 for i in range(n)]).sum(axis=0)\n",
    "    return  (-n*np.log(2*np.pi))/2 - 0.5*foo\n",
    "\n",
    "def normllprime(theta):\n",
    "    temp = []\n",
    "    #iterate through all observations\n",
    "    for i in range(n):\n",
    "        temp.append(random_sample[i]-theta)   \n",
    "    return sum(temp)\n",
    "\n",
    "def normllprime2(theta):\n",
    "    return -n;\n",
    "\n",
    "def normstep(theta):\n",
    "    return normllprime(theta) / normllprime2(theta)\n",
    "\n",
    "def newton_method(theta, tol, max_iterations, print_option):\n",
    "    theta_vals = [theta]\n",
    "    num_iterations = 0\n",
    "    \n",
    "    while abs(normllprime(theta)) > tol and num_iterations < max_iterations:\n",
    "        old_theta = theta_vals[num_iterations]\n",
    "        new_theta = old_theta - normstep(old_theta)\n",
    "        num_iterations += 1\n",
    "        theta_vals.append(new_theta)\n",
    "        theta = new_theta\n",
    "        \n",
    "        \n",
    "    # at this point we have broken out of the while loop    \n",
    "    if num_iterations == max_iterations:\n",
    "        print(\"Exceeded maximum number of iterations.\")\n",
    "        return\n",
    "        \n",
    "    # this is where we hope to be if newtons went well    \n",
    "    if print_option == 1:\n",
    "        print('\\n')\n",
    "        print(\"Using Newton's Method with Normal\")\n",
    "        print(\"Starting value: \" + str(theta_vals[0]))\n",
    "        sol = theta_vals[-1]\n",
    "        print(\"Number of iterations: \" + str(num_iterations) + \" \\nTolerance: \" + str(tol))\n",
    "        print(\"Final solution: \" + str(sol))\n",
    "        return\n",
    "    \n",
    "    if print_option == 0:\n",
    "        return theta_vals[-1]\n",
    "\n",
    "    \n",
    "# plotting the log likelihood for a normal distribution\n",
    "thetas = np.linspace(-12,12, 1000)\n",
    "plt.figure()\n",
    "plt.plot(thetas, normloglike(thetas))\n",
    "\n",
    "plt.title('Graph of the Log-likelihood Function for a Normal Distribution')\n",
    "plt.xlabel('Theta values')\n",
    "plt.ylabel('Log-likehood function')\n",
    "\n",
    "# find the MLE for theta using NR method\n",
    "starting_pts = np.asarray([0, 2, 3, -1, 0.5, 30, 42, -100, np.mean(random_sample)])\n",
    "tol = 1e-6\n",
    "max_iterations = 2000\n",
    "printopt = 1\n",
    "for val in starting_pts:\n",
    "    newton_method(val, tol, max_iterations, printopt)\n",
    "\n"
   ]
  },
  {
   "cell_type": "markdown",
   "metadata": {},
   "source": [
    "We can see above that Newton's Method converges really quickly to the maximum value, despite the starting value. For this, it finds the correct mean at every starting point. This is kind of surprising given the log-likelihood functions behavior for varying theta values, as there are many local mins and maxs. I would have expected this to be more sensitive to varying starting values, though it does appear\n",
    "\n",
    "#### e -- using bisection method"
   ]
  },
  {
   "cell_type": "code",
   "execution_count": 13,
   "metadata": {},
   "outputs": [
    {
     "name": "stdout",
     "output_type": "stream",
     "text": [
      "Using bisection method with starting value:  0.0\n",
      "Number of iterations: 26 with tolerance: 1e-06\n",
      "Final solution: 2.8852160274982452\n",
      "\n",
      "Using bisection method with starting value:  2.0\n",
      "Number of iterations: 25 with tolerance: 1e-06\n",
      "Final solution: 2.885215997695923\n",
      "\n",
      "Using bisection method with starting value:  3.0\n",
      "Number of iterations: 25 with tolerance: 1e-06\n",
      "Final solution: 2.8852160274982452\n",
      "\n",
      "Using bisection method with starting value:  -1.0\n",
      "Number of iterations: 27 with tolerance: 1e-06\n",
      "Final solution: 2.8852160200476646\n",
      "\n",
      "Using bisection method with starting value:  0.5\n",
      "Number of iterations: 26 with tolerance: 1e-06\n",
      "Final solution: 2.885216034948826\n",
      "\n",
      "Using bisection method with starting value:  30.0\n",
      "Number of iterations: 26 with tolerance: 1e-06\n",
      "Final solution: 2.8852160274982452\n",
      "\n",
      "Using bisection method with starting value:  42.0\n",
      "Number of iterations: 26 with tolerance: 1e-06\n",
      "Final solution: 2.8852160274982452\n",
      "\n",
      "Using bisection method with starting value:  -100.0\n",
      "Number of iterations: 30 with tolerance: 1e-06\n",
      "Final solution: 2.885215999558568\n",
      "\n",
      "Using bisection method with starting value:  -10.0\n",
      "Number of iterations: 27 with tolerance: 1e-06\n",
      "Final solution: 2.8852160274982452\n",
      "\n",
      "Using bisection method with starting value:  -2.75\n",
      "Number of iterations: 26 with tolerance: 1e-06\n",
      "Final solution: 2.885215986520052\n",
      "\n",
      "Using bisection method with starting value:  2.8852160209097337\n",
      "Number of iterations: 0 with tolerance: 1e-06\n",
      "Final solution: 2.8852160209097337\n",
      "\n"
     ]
    }
   ],
   "source": [
    "def bisection(x, a, b, tol):\n",
    "    num_iterations = 0\n",
    "    max_iterations = 100\n",
    "    a0 = a\n",
    "    b0 = b\n",
    "    \n",
    "    # creating lists for these values for graphing purposes later\n",
    "    a_list = [a]\n",
    "    b_list = [b]\n",
    "    x_list = [x]\n",
    "    \n",
    "    # check the condition holds to continue the loop\n",
    "    while ((abs(normllprime(x)) > tol) and (num_iterations < max_iterations)):\n",
    "        \n",
    "        # check that condition holds for intermediate value theorem\n",
    "        if normllprime(a)*normllprime(b) > 0:\n",
    "            print(\"Bisection method fails.\")\n",
    "            return\n",
    "        \n",
    "        # if this does not fail, then we can test other conditions given in book\n",
    "        if normllprime(a)*normllprime(x) <= 0:\n",
    "            a = a\n",
    "            b = x\n",
    "        elif normllprime(a)*normllprime(x) > 0:\n",
    "            a = x\n",
    "            b = b\n",
    "        else:\n",
    "            print(\"Something went wrong!\")\n",
    "            return\n",
    "        \n",
    "        # updating new x values in new interval\n",
    "        x = (a+b)/2;\n",
    "        num_iterations+=1;\n",
    "        \n",
    "        # storing our new a, b, and x values at the end of a list for graphing later\n",
    "        a_list.append(a)\n",
    "        b_list.append(b)\n",
    "        x_list.append(x)\n",
    "    \n",
    "    # while loop has broken at this point in the code\n",
    "    # we are either within the appropriate tolerance, or reached max iterations\n",
    "    if num_iterations == max_iterations:\n",
    "        print(\"Exceeded maximum number of iterations.\")\n",
    "        return\n",
    "        \n",
    "    # this is where we hope to be if bisection went well    \n",
    "    else:\n",
    "        print('Using bisection method with starting value: ', x_list[0])\n",
    "        print(\"Number of iterations: \" + str(num_iterations) + \" with tolerance: \" + str(tol))\n",
    "        print(\"Final solution: \" + str(x))\n",
    "        print()\n",
    "        return\n",
    "        \n",
    "starting_pts = np.asarray([0, 2, 3, -1, 0.5, 30, 42, -100, -10, -2.75, np.mean(random_sample)])\n",
    "tol = 1e-6\n",
    "max_iterations = 2000\n",
    "a = 0\n",
    "b = 10\n",
    "for val in starting_pts:\n",
    "    bisection(val, a, b, tol)"
   ]
  },
  {
   "cell_type": "markdown",
   "metadata": {},
   "source": [
    "We can see similarly that bisection method works well, though it is not as efficient as Newton's Method with a normal distribution. Newton's Method only took a few iterations to converge to the mean, but bisection is taking upwards of 20 iterations, though it is quite stable in finding the solutions.\n",
    "\n",
    "#### (e) fixed point for normal"
   ]
  },
  {
   "cell_type": "code",
   "execution_count": 14,
   "metadata": {},
   "outputs": [
    {
     "name": "stdout",
     "output_type": "stream",
     "text": [
      "Using fixed-point for normal distribution\n",
      "Fixed-point estimate for alpha = 0.75 is:  3.2\n",
      "Iterations:  0\n",
      "Tolerance:  1e-06\n",
      "\n",
      "Fixed-point estimate for alpha = 0.33 is:  3.2\n",
      "Iterations:  0\n",
      "Tolerance:  1e-06\n",
      "\n",
      "Fixed-point estimate for alpha = 0.50 is:  3.2\n",
      "Iterations:  0\n",
      "Tolerance:  1e-06\n",
      "\n",
      "Fixed-point estimate for alpha = 0.22 is:  3.2\n",
      "Iterations:  0\n",
      "Tolerance:  1e-06\n",
      "\n",
      "Fixed-point estimate for alpha = 0.01 is:  3.2\n",
      "Iterations:  0\n",
      "Tolerance:  1e-06\n",
      "\n"
     ]
    }
   ],
   "source": [
    "alphas = [0.75,.33,.5, 0.22, 0.01] # scaling factor \n",
    "iterations = 0\n",
    "print('Using fixed-point for normal distribution')\n",
    "for alpha in alphas:\n",
    "    theta = 3.2\n",
    "    while normllprime(theta)>tol:\n",
    "        theta = theta + alpha*normllprime(theta) \n",
    "        iterations+=1    \n",
    "    print('Fixed-point estimate for alpha = %.2f is: ' %alpha,theta)\n",
    "    print('Iterations: ',iterations)\n",
    "    print('Tolerance: ', tol)\n",
    "    print()"
   ]
  },
  {
   "cell_type": "markdown",
   "metadata": {},
   "source": [
    "We can see that fixed-point does NOT converge to the correct maximum with specific alpha values, even when starting very close to the true max (in this case, the last iteration starts at the maximum.) It also takes the most iterations with a higher alpha value, making it inefficient, but more accurate than the others. \n",
    "\n",
    "#### (e) using secant for a normal distribution"
   ]
  },
  {
   "cell_type": "code",
   "execution_count": 15,
   "metadata": {},
   "outputs": [
    {
     "name": "stdout",
     "output_type": "stream",
     "text": [
      "Secant estimate for [-1.00,0.00]:  2.8852160209097337\n",
      "Iterations:  2\n",
      "Tolerance:  1e-06\n",
      "\n",
      "Secant estimate for [-5.00,2.00]:  2.8852160209097337\n",
      "Iterations:  2\n",
      "Tolerance:  1e-06\n",
      "\n",
      "Secant estimate for [3.00,4.00]:  2.8852160209097337\n",
      "Iterations:  2\n",
      "Tolerance:  1e-06\n",
      "\n",
      "Secant estimate for [6.00,1.00]:  2.8852160209097337\n",
      "Iterations:  2\n",
      "Tolerance:  1e-06\n",
      "\n",
      "Secant estimate for [-1.00,8.00]:  2.8852160209097337\n",
      "Iterations:  2\n",
      "Tolerance:  1e-06\n",
      "\n"
     ]
    }
   ],
   "source": [
    "theta_zeros = [-1,-5, 3, 6, -1]\n",
    "theta_ones= [0,2, 4, 1, 8]\n",
    "for i in range(len(theta_zeros)):\n",
    "    k=0\n",
    "    x0=theta_zeros[i]\n",
    "    x1=theta_ones[i]\n",
    "    fx0 = llprime(x0); \n",
    "    fx1 = llprime(x1)\n",
    "    \n",
    "    while abs((x0-x1))>tol:\n",
    "        x2 = x1 - normllprime(x1)*(x1-x0)/(normllprime(x1)-normllprime(x0))\n",
    "        x0=x1; x1=x2; fx0=fx1; fx1 = normllprime(x2)\n",
    "        k+=1\n",
    "    print('Secant estimate for [%.2f,%.2f]: '%(theta_zeros[i],theta_ones[i]),x2)\n",
    "    print('Iterations: ',k)\n",
    "    print('Tolerance: ', tol)\n",
    "    print()"
   ]
  },
  {
   "cell_type": "markdown",
   "metadata": {},
   "source": [
    "### Overall analysis of various methods for finding mean of normal distribution\n",
    "\n",
    "Secant method and Newton's method seem to both quickly converge to the correct value for varying starting values. This makes sense because the log-likelihood function is relatively smooth for a normal distribution, unlike other functions we have seen. "
   ]
  },
  {
   "cell_type": "markdown",
   "metadata": {},
   "source": [
    "## Problem 3"
   ]
  },
  {
   "cell_type": "code",
   "execution_count": 16,
   "metadata": {},
   "outputs": [
    {
     "data": {
      "text/plain": [
       "Text(0.8, 0.17, '95% posterior \\ndensity interval')"
      ]
     },
     "execution_count": 16,
     "metadata": {},
     "output_type": "execute_result"
    },
    {
     "data": {
      "image/png": "[encoded data removed]",
      "text/plain": [
       "<Figure size 432x288 with 1 Axes>"
      ]
     },
     "metadata": {
      "needs_background": "light"
     },
     "output_type": "display_data"
    }
   ],
   "source": [
    "from scipy.stats import gamma\n",
    "\n",
    "a = 2 #given from gamma\n",
    "thetas = np.linspace(gamma.ppf(0, a), gamma.ppf(0.99, a), 100)\n",
    "pdf_vals = gamma.pdf(thetas, a) #f\n",
    "plt.figure()\n",
    "plt.plot(thetas, pdf_vals,'r-', lw=2, alpha=0.6, label='gamma pdf', color = 'k')\n",
    "plt.title('The Gamma PDF')\n",
    "maxy = pdf_vals.max()\n",
    "indexy = pdf_vals.argmax()\n",
    "\n",
    "num_iterations = 0\n",
    "max_iterations = 100000\n",
    "area = 0\n",
    "step_size = maxy / 100000\n",
    "\n",
    "while (area <= 0.95) & (num_iterations < max_iterations):\n",
    "    y = maxy - num_iterations*(step_size) \n",
    "    num_iterations += 1\n",
    "    deltas = np.abs(pdf_vals - y)\n",
    "    left_array = deltas[0:indexy]\n",
    "    left_idx = left_array.argmin()\n",
    "    right_array = deltas[indexy: -1]\n",
    "    right_idx = right_array.argmin()\n",
    "    \n",
    "    left_intercept = thetas[left_idx]\n",
    "    right_intercept = thetas[right_idx + left_array.size]\n",
    "    area = gamma.cdf(right_intercept,a) - gamma.cdf(left_intercept,a)\n",
    "\n",
    "plt.axvline(left_intercept)\n",
    "plt.annotate('Θ_a: the lower interval bound', (0.2, 0.025))\n",
    "plt.annotate('Θ_b: the upper \\ninterval bound', (5, 0.3))\n",
    "plt.ylabel('The PDF f(Θ)')\n",
    "plt.xlabel('Θ values')\n",
    "plt.axvline(right_intercept)\n",
    "\n",
    "x = np.arange(left_intercept, right_intercept, 0.01)\n",
    "plt.fill_between(x, gamma.pdf(x, a), color = 'c')\n",
    "plt.annotate('95% posterior \\ndensity interval', (0.8, 0.17))"
   ]
  },
  {
   "cell_type": "code",
   "execution_count": null,
   "metadata": {},
   "outputs": [],
   "source": []
  }
 ],
 "metadata": {
  "kernelspec": {
   "display_name": "Python 3",
   "language": "python",
   "name": "python3"
  },
  "language_info": {
   "codemirror_mode": {
    "name": "ipython",
    "version": 3
   },
   "file_extension": ".py",
   "mimetype": "text/x-python",
   "name": "python",
   "nbconvert_exporter": "python",
   "pygments_lexer": "ipython3",
   "version": "3.7.4"
  }
 },
 "nbformat": 4,
 "nbformat_minor": 2
}
