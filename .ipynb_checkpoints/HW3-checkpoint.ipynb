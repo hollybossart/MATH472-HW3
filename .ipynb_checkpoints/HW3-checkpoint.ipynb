{
 "cells": [
  {
   "cell_type": "markdown",
   "metadata": {},
   "source": [
    "# MATH 472 Homework 3\n",
    "## Holly Bossart\n",
    "## Due 02/06/2020"
   ]
  },
  {
   "cell_type": "code",
   "execution_count": 2,
   "metadata": {},
   "outputs": [],
   "source": [
    "import pandas as pd\n",
    "import numpy as np"
   ]
  },
  {
   "cell_type": "markdown",
   "metadata": {},
   "source": [
    "## Problem 1\n",
    "Implement iteratively reweighted least squares IRLS algorithm to reproduce the result in Example 2.5 of Computational Statistics book. \n",
    "\n",
    "(a) Print your result in the format of table 2.1 ousing starting value = (0.95913, 0)."
   ]
  },
  {
   "cell_type": "code",
   "execution_count": 4,
   "metadata": {},
   "outputs": [
    {
     "data": {
      "text/html": [
       "<div>\n",
       "<style scoped>\n",
       "    .dataframe tbody tr th:only-of-type {\n",
       "        vertical-align: middle;\n",
       "    }\n",
       "\n",
       "    .dataframe tbody tr th {\n",
       "        vertical-align: top;\n",
       "    }\n",
       "\n",
       "    .dataframe thead th {\n",
       "        text-align: right;\n",
       "    }\n",
       "</style>\n",
       "<table border=\"1\" class=\"dataframe\">\n",
       "  <thead>\n",
       "    <tr style=\"text-align: right;\">\n",
       "      <th></th>\n",
       "      <th>match</th>\n",
       "      <th>eyediff</th>\n",
       "      <th>nosecheekdiff</th>\n",
       "      <th>variabilityratio</th>\n",
       "    </tr>\n",
       "  </thead>\n",
       "  <tbody>\n",
       "    <tr>\n",
       "      <td>0</td>\n",
       "      <td>1</td>\n",
       "      <td>0.009683</td>\n",
       "      <td>0.027914</td>\n",
       "      <td>1.086204</td>\n",
       "    </tr>\n",
       "    <tr>\n",
       "      <td>1</td>\n",
       "      <td>1</td>\n",
       "      <td>0.027614</td>\n",
       "      <td>0.017821</td>\n",
       "      <td>0.989840</td>\n",
       "    </tr>\n",
       "    <tr>\n",
       "      <td>2</td>\n",
       "      <td>1</td>\n",
       "      <td>0.015367</td>\n",
       "      <td>0.025832</td>\n",
       "      <td>1.010983</td>\n",
       "    </tr>\n",
       "    <tr>\n",
       "      <td>3</td>\n",
       "      <td>1</td>\n",
       "      <td>0.013371</td>\n",
       "      <td>0.024048</td>\n",
       "      <td>1.012724</td>\n",
       "    </tr>\n",
       "    <tr>\n",
       "      <td>4</td>\n",
       "      <td>1</td>\n",
       "      <td>0.011428</td>\n",
       "      <td>0.017801</td>\n",
       "      <td>1.044396</td>\n",
       "    </tr>\n",
       "    <tr>\n",
       "      <td>...</td>\n",
       "      <td>...</td>\n",
       "      <td>...</td>\n",
       "      <td>...</td>\n",
       "      <td>...</td>\n",
       "    </tr>\n",
       "    <tr>\n",
       "      <td>1037</td>\n",
       "      <td>1</td>\n",
       "      <td>0.014945</td>\n",
       "      <td>0.025952</td>\n",
       "      <td>0.946846</td>\n",
       "    </tr>\n",
       "    <tr>\n",
       "      <td>1038</td>\n",
       "      <td>0</td>\n",
       "      <td>0.179608</td>\n",
       "      <td>0.281835</td>\n",
       "      <td>0.968686</td>\n",
       "    </tr>\n",
       "    <tr>\n",
       "      <td>1039</td>\n",
       "      <td>1</td>\n",
       "      <td>0.048259</td>\n",
       "      <td>0.047284</td>\n",
       "      <td>0.988775</td>\n",
       "    </tr>\n",
       "    <tr>\n",
       "      <td>1040</td>\n",
       "      <td>0</td>\n",
       "      <td>0.014961</td>\n",
       "      <td>0.091083</td>\n",
       "      <td>0.976548</td>\n",
       "    </tr>\n",
       "    <tr>\n",
       "      <td>1041</td>\n",
       "      <td>0</td>\n",
       "      <td>0.056910</td>\n",
       "      <td>0.139652</td>\n",
       "      <td>1.018744</td>\n",
       "    </tr>\n",
       "  </tbody>\n",
       "</table>\n",
       "<p>1042 rows × 4 columns</p>\n",
       "</div>"
      ],
      "text/plain": [
       "      match   eyediff  nosecheekdiff  variabilityratio\n",
       "0         1  0.009683       0.027914          1.086204\n",
       "1         1  0.027614       0.017821          0.989840\n",
       "2         1  0.015367       0.025832          1.010983\n",
       "3         1  0.013371       0.024048          1.012724\n",
       "4         1  0.011428       0.017801          1.044396\n",
       "...     ...       ...            ...               ...\n",
       "1037      1  0.014945       0.025952          0.946846\n",
       "1038      0  0.179608       0.281835          0.968686\n",
       "1039      1  0.048259       0.047284          0.988775\n",
       "1040      0  0.014961       0.091083          0.976548\n",
       "1041      0  0.056910       0.139652          1.018744\n",
       "\n",
       "[1042 rows x 4 columns]"
      ]
     },
     "execution_count": 4,
     "metadata": {},
     "output_type": "execute_result"
    }
   ],
   "source": [
    "# import the data\n",
    "pd.read_csv('facerecognition.csv', delimiter = ' ')"
   ]
  },
  {
   "cell_type": "code",
   "execution_count": null,
   "metadata": {},
   "outputs": [],
   "source": []
  }
 ],
 "metadata": {
  "kernelspec": {
   "display_name": "Python 3",
   "language": "python",
   "name": "python3"
  },
  "language_info": {
   "codemirror_mode": {
    "name": "ipython",
    "version": 3
   },
   "file_extension": ".py",
   "mimetype": "text/x-python",
   "name": "python",
   "nbconvert_exporter": "python",
   "pygments_lexer": "ipython3",
   "version": "3.7.4"
  }
 },
 "nbformat": 4,
 "nbformat_minor": 2
}
