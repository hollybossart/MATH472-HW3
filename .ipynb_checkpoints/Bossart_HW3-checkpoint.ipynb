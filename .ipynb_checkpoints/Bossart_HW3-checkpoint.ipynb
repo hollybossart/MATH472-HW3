{
 "cells": [
  {
   "cell_type": "markdown",
   "metadata": {},
   "source": [
    "# MATH 472 Homework 3\n",
    "## Holly Bossart\n",
    "## Due 02/06/2020"
   ]
  },
  {
   "cell_type": "code",
   "execution_count": 1,
   "metadata": {},
   "outputs": [],
   "source": [
    "import pandas as pd\n",
    "import numpy as np\n",
    "import matplotlib.pyplot as plt\n",
    "from numpy.linalg import inv, multi_dot\n",
    "%matplotlib inline"
   ]
  },
  {
   "cell_type": "markdown",
   "metadata": {},
   "source": [
    "## Problem 1\n",
    "Implement iteratively reweighted least squares IRLS algorithm to reproduce the result in Example 2.5 of Computational Statistics book. \n",
    "\n",
    "### Part a\n",
    "(a) Print your result in the format of table 2.1 ousing starting value = (0.95913, 0)."
   ]
  },
  {
   "cell_type": "code",
   "execution_count": 2,
   "metadata": {
    "scrolled": false
   },
   "outputs": [],
   "source": [
    "data = pd.read_csv('facerecognition.csv', delimiter = ' ')\n",
    "y = data['match'].to_numpy().reshape((1042,1))\n",
    "z = data['eyediff'].to_numpy().reshape((1042,1))\n",
    "ones = np.ones((1042, 1))\n",
    "z = np.hstack((ones, z))\n",
    "n = y.size\n",
    "beta = np.asarray([0.95913, 0]).reshape(2,1)\n",
    "abeta0s = []\n",
    "abeta1s = []\n",
    "bbeta0s = []\n",
    "bbeta1s = []\n",
    "\n",
    "\n",
    "\n",
    "def update_pi(beta):\n",
    "    pi = (1/(1 + np.exp(-z.dot(beta))))\n",
    "    return pi\n",
    "\n",
    "def get_b(pi):\n",
    "    return -np.log(pi)\n",
    "\n",
    "def newton_beta(beta, opt):\n",
    "    # this if our first value for everything\n",
    "    iteration = 0\n",
    "\n",
    "    W = np.zeros((n,n))\n",
    "    pi= update_pi(beta)\n",
    "    np.fill_diagonal(W, pi*(1-pi))\n",
    "\n",
    "    for i in range(5):\n",
    "        Hessian = inv(multi_dot((z.T, W, z)))\n",
    "        #print(iteration, beta, Hessian)\n",
    "        iteration = iteration + 1\n",
    "        \n",
    "        if opt == 0:\n",
    "            abeta0s.append(beta[0])\n",
    "            abeta1s.append(beta[1])\n",
    "            \n",
    "        if opt == 1:\n",
    "            bbeta0s.append(beta[0])\n",
    "            bbeta1s.append(beta[1])\n",
    "            \n",
    "        beta = beta + Hessian.dot(z.T.dot(y - pi))\n",
    "        pi = update_pi(beta)\n",
    "        np.fill_diagonal(W, pi*(1-pi))\n",
    "    return;\n",
    "\n",
    "newton_beta(beta, 0)"
   ]
  },
  {
   "cell_type": "markdown",
   "metadata": {},
   "source": [
    "### 1a Solution:\n",
    "| Iteration, t | $\\beta^{(t)}$                                          | $-l''(\\beta^{(t+1)})$                                                                              |\n",
    "|--------------|--------------------------------------------------------|----------------------------------------------------------------------------------------------------|\n",
    "| 0            | $\\begin{pmatrix} 0.95913\\\\ 0 \\end{pmatrix}$            | $\\begin{bmatrix} 0.01096355 & -0.11774\\\\ -0.11774922 & 2.24636741 \\end{bmatrix}$                   |\n",
    "| 1            | $\\begin{pmatrix}1.72028763\\\\-13.90963144\\end{pmatrix}$ | $\\begin{bmatrix}   0.01376919 & -0.14444378\\\\   -0.14444378 & 2.43426036   \\end{bmatrix}$          |\n",
    "| 2            | $\\begin{pmatrix}1.75721969\\\\-13.38389891\\end{pmatrix}$ | $\\begin{bmatrix}    0.01399076 & -0.14439871\\\\    -0.14439871 & 2.40178607    \\end{bmatrix}$       |\n",
    "| 3            | $\\begin{pmatrix}1.75870063\\\\-13.40003398\\end{pmatrix}$ | $\\begin{bmatrix}     0.01400062 & -0.1445039\\\\     -0.1445039 & 2.40316643     \\end{bmatrix}$      |\n",
    "| 4            | $\\begin{pmatrix}1.75870116\\\\-13.40003968\\end{pmatrix}$ | $\\begin{bmatrix}      0.01400062 & -0.14450394\\\\      -0.14450394 & 2.40316692      \\end{bmatrix}$ |"
   ]
  },
  {
   "cell_type": "markdown",
   "metadata": {},
   "source": [
    "## Problem 1b\n",
    "(b) Starting with different points."
   ]
  },
  {
   "cell_type": "code",
   "execution_count": 3,
   "metadata": {},
   "outputs": [],
   "source": [
    "# number 1b\n",
    "beta = np.asarray([0, 0]).reshape(2,1)\n",
    "newton_beta(beta, 1)"
   ]
  },
  {
   "cell_type": "markdown",
   "metadata": {},
   "source": [
    "## Problem 1C: making the contour plot"
   ]
  },
  {
   "cell_type": "code",
   "execution_count": 4,
   "metadata": {},
   "outputs": [
    {
     "data": {
      "text/plain": [
       "[<matplotlib.lines.Line2D at 0x2eeab7c6f48>]"
      ]
     },
     "execution_count": 4,
     "metadata": {},
     "output_type": "execute_result"
    },
    {
     "data": {
      "image/png": "[encoded data removed]",
      "text/plain": [
       "<Figure size 432x288 with 1 Axes>"
      ]
     },
     "metadata": {
      "needs_background": "light"
     },
     "output_type": "display_data"
    }
   ],
   "source": [
    "num_pts = 200;\n",
    "b0_vals = np.linspace(-2, 2, num_pts)\n",
    "b1_vals = np.linspace(-15, 15, num_pts)\n",
    "B0, B1 = np.meshgrid(b0_vals, b1_vals)\n",
    "\n",
    "\n",
    "# we need to iterate through the mesh now and calculate the loglikehood\n",
    "\n",
    "def loglikelihood(y, z, beta0, beta1):\n",
    "    ones = np.ones((y.size, 1))\n",
    "    beta = np.array([beta0, beta1]).reshape(2,1)\n",
    "    pi = (1/(1 + np.exp(-z.dot(beta)))).reshape(y.size, 1)\n",
    "    b = -np.log(1-pi)\n",
    "    return multi_dot((y.T, z, beta)) -b.T.dot(ones)\n",
    "\n",
    "ll = np.zeros((B0.shape[0], B1.shape[0]))    \n",
    "for i in range(B0.shape[0]):\n",
    "    for j in range (B1.shape[0]):\n",
    "        b0 = B0[i,j]\n",
    "        b1 = B1[i,j]\n",
    "        ll[i,j] = loglikelihood(y,z,b0,b1)\n",
    "\n",
    "plt.figure\n",
    "plt.contourf(B0, B1, ll, 40, cmap = 'ocean')\n",
    "plt.plot(abeta0s, abeta1s, '*m-')\n",
    "plt.title('Contour plot of the log-likelihood function with inputs, B0 and B1')\n",
    "plt.xlabel('B0 values')\n",
    "plt.ylabel('B1 values')\n",
    "plt.annotate('B0_b, B1_b', (-0.2,2))\n",
    "plt.annotate('B0_a, B1_a', (1,3))\n",
    "plt.plot(bbeta0s, bbeta1s, '*r-')\n"
   ]
  }
 ],
 "metadata": {
  "kernelspec": {
   "display_name": "Python 3",
   "language": "python",
   "name": "python3"
  },
  "language_info": {
   "codemirror_mode": {
    "name": "ipython",
    "version": 3
   },
   "file_extension": ".py",
   "mimetype": "text/x-python",
   "name": "python",
   "nbconvert_exporter": "python",
   "pygments_lexer": "ipython3",
   "version": "3.7.4"
  }
 },
 "nbformat": 4,
 "nbformat_minor": 2
}
